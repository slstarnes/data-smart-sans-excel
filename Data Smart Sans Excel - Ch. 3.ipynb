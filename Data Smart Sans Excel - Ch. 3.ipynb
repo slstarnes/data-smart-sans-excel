{
 "cells": [
  {
   "cell_type": "markdown",
   "metadata": {},
   "source": [
    "# Data Smart Sans Excel\n",
    "\n",
    "< need to add linker to master >"
   ]
  },
  {
   "cell_type": "code",
   "execution_count": 1,
   "metadata": {
    "collapsed": true
   },
   "outputs": [],
   "source": [
    "# Download and extract Data Smart files\n",
    "import os\n",
    "import urllib.request\n",
    "import zipfile\n",
    "if not os.path.exists(os.path.join(os.getcwd(), \"data_smart_files\")):\n",
    "    r = range(1, 11)\n",
    "    url_list = []\n",
    "    url_base = \"http://media.wiley.com/product_ancillary/6X/11186614/DOWNLOAD/\"\n",
    "    for i in r:\n",
    "        url_list.append(url_base + 'ch' + str(i).zfill(2) + '.zip')\n",
    "    for url in url_list:\n",
    "        file_name = url[-8:]\n",
    "        urllib.request.urlretrieve (url, file_name)\n",
    "        z = zipfile.ZipFile(file_name, \"r\")\n",
    "        z.extractall(os.path.join(os.getcwd(), \"data_smart_files\"))\n",
    "        z.close()"
   ]
  },
  {
   "cell_type": "markdown",
   "metadata": {},
   "source": [
    "## Chapter 3 - Naïve Bayes"
   ]
  },
  {
   "cell_type": "code",
   "execution_count": 15,
   "metadata": {
    "collapsed": false
   },
   "outputs": [
    {
     "name": "stdout",
     "output_type": "stream",
     "text": [
      "                                               Tweet\n",
      "0  [[blog], using, nullmailer, and, mandrill, for...\n",
      "1  [[blog], using, postfix, and, free, mandrill, ...\n",
      "2  [@aalbertson, there, are, several, reasons, em...\n",
      "3  [@adrienneleigh, i, just, switched, it, over, ...\n",
      "4  [@ankeshk, +1, to, @mailchimp, we, use, mailch...\n",
      "                                               Tweet\n",
      "0      [¿en, donde, esta, su, remontada, mandrill, ]\n",
      "1  [.@katie_phd, alternate, , 'reproachful, mandr...\n",
      "2  [.@theophani, can, i, get, \"drill\", in, there,...\n",
      "3  [“@chrisjboyland, baby, mandrill, paignton, zo...\n",
      "4  [“@missmya, #nameanamazingband, mandrill, ”, m...\n"
     ]
    }
   ],
   "source": [
    "import pandas as pd\n",
    "import numpy as np\n",
    "excel_file = os.path.join(os.getcwd(), \"data_smart_files\", \"\", \"Mandrill.xlsx\")\n",
    "about_mandrill_df = pd.read_excel(excel_file, 'AboutMandrillApp', parse_cols = \"A\", index_col=None)\n",
    "about_other_df = pd.read_excel(excel_file, 'AboutOther', parse_cols = \"A\", index_col=None)\n",
    "\n",
    "def clean(s): \n",
    "    s = s.lower()\n",
    "    s = s.replace('. ', ' ')\n",
    "    s = s.replace(': ', ' ')\n",
    "    s = s.replace('?', ' ')\n",
    "    s = s.replace('!', ' ')\n",
    "    s = s.replace(';', ' ')\n",
    "    s = s.replace(',', ' ')\n",
    "    return s\n",
    "\n",
    "def split_(s):\n",
    "    return s.split(' ')\n",
    "\n",
    "for df in (about_mandrill_df, about_other_df):\n",
    "    df = df.applymap(clean)\n",
    "    df = df.applymap(split_)\n",
    "    print (df.head())"
   ]
  },
  {
   "cell_type": "code",
   "execution_count": null,
   "metadata": {
    "collapsed": true
   },
   "outputs": [],
   "source": []
  },
  {
   "cell_type": "code",
   "execution_count": null,
   "metadata": {
    "collapsed": true
   },
   "outputs": [],
   "source": []
  }
 ],
 "metadata": {
  "kernelspec": {
   "display_name": "Python 3",
   "language": "python",
   "name": "python3"
  },
  "language_info": {
   "codemirror_mode": {
    "name": "ipython",
    "version": 3
   },
   "file_extension": ".py",
   "mimetype": "text/x-python",
   "name": "python",
   "nbconvert_exporter": "python",
   "pygments_lexer": "ipython3",
   "version": "3.4.4"
  }
 },
 "nbformat": 4,
 "nbformat_minor": 0
}
