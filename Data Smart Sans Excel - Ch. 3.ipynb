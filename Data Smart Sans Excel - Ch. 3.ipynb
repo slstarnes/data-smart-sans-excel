{
 "cells": [
  {
   "cell_type": "markdown",
   "metadata": {},
   "source": [
    "# Data Smart Sans Excel\n",
    "\n",
    "< need to add linker to master >"
   ]
  },
  {
   "cell_type": "code",
   "execution_count": 1,
   "metadata": {
    "collapsed": true
   },
   "outputs": [],
   "source": [
    "# Download and extract Data Smart files\n",
    "import os\n",
    "import urllib.request\n",
    "import zipfile\n",
    "if not os.path.exists(os.path.join(os.getcwd(), \"data_smart_files\")):\n",
    "    r = range(1, 11)\n",
    "    url_list = []\n",
    "    url_base = \"http://media.wiley.com/product_ancillary/6X/11186614/DOWNLOAD/\"\n",
    "    for i in r:\n",
    "        url_list.append(url_base + 'ch' + str(i).zfill(2) + '.zip')\n",
    "    for url in url_list:\n",
    "        file_name = url[-8:]\n",
    "        urllib.request.urlretrieve (url, file_name)\n",
    "        z = zipfile.ZipFile(file_name, \"r\")\n",
    "        z.extractall(os.path.join(os.getcwd(), \"data_smart_files\"))\n",
    "        z.close()"
   ]
  },
  {
   "cell_type": "markdown",
   "metadata": {},
   "source": [
    "## Chapter 3 - Naïve Bayes"
   ]
  },
  {
   "cell_type": "code",
   "execution_count": 16,
   "metadata": {
    "collapsed": false
   },
   "outputs": [],
   "source": [
    "import pandas as pd\n",
    "import numpy as np\n",
    "excel_file = os.path.join(os.getcwd(), \"data_smart_files\", \"\", \"Mandrill.xlsx\")\n",
    "about_mandrill_df = pd.read_excel(excel_file, 'AboutMandrillApp', parse_cols = \"A\", index_col=None)\n",
    "about_other_df = pd.read_excel(excel_file, 'AboutOther', parse_cols = \"A\", index_col=None)\n",
    "\n",
    "def clean(s): \n",
    "    s = s.lower()\n",
    "    s = s.replace('. ', ' ')\n",
    "    s = s.replace(': ', ' ')\n",
    "    s = s.replace('?', ' ')\n",
    "    s = s.replace('!', ' ')\n",
    "    s = s.replace(';', ' ')\n",
    "    s = s.replace(',', ' ')\n",
    "    return s\n",
    "\n",
    "def split_(s):\n",
    "    return s.split(' ')\n",
    "\n",
    "about_mandrill_df = about_mandrill_df.applymap(clean)\n",
    "about_mandrill_df = about_mandrill_df.applymap(split_)\n",
    "    \n",
    "about_other_df = about_other_df.applymap(clean)\n",
    "about_other_df = about_other_df.applymap(split_)"
   ]
  },
  {
   "cell_type": "code",
   "execution_count": 25,
   "metadata": {
    "collapsed": false
   },
   "outputs": [],
   "source": [
    "import itertools\n",
    "about_mandrill_words = []\n",
    "for row in about_mandrill_df.itertuples():\n",
    "    about_mandrill_words.append(row[1])\n",
    "about_mandrill_words  = list(itertools.chain(*about_mandrill_words))\n",
    "\n",
    "about_other_words = []\n",
    "for row in about_other_df.itertuples():\n",
    "    about_other_words.append(row[1])\n",
    "about_other_words  = list(itertools.chain(*about_other_words))"
   ]
  },
  {
   "cell_type": "code",
   "execution_count": 27,
   "metadata": {
    "collapsed": false
   },
   "outputs": [],
   "source": [
    "about_mandrill_count_dict = {}\n",
    "for word in set(about_mandrill_words):\n",
    "    about_mandrill_count_dict[word] = about_mandrill_words.count(word)\n",
    "    \n",
    "about_other_count_dict = {}\n",
    "for word in set(about_other_words):\n",
    "    about_other_count_dict[word] = about_other_words.count(word)"
   ]
  },
  {
   "cell_type": "code",
   "execution_count": null,
   "metadata": {
    "collapsed": true
   },
   "outputs": [],
   "source": []
  }
 ],
 "metadata": {
  "kernelspec": {
   "display_name": "Python 3",
   "language": "python",
   "name": "python3"
  },
  "language_info": {
   "codemirror_mode": {
    "name": "ipython",
    "version": 3
   },
   "file_extension": ".py",
   "mimetype": "text/x-python",
   "name": "python",
   "nbconvert_exporter": "python",
   "pygments_lexer": "ipython3",
   "version": "3.4.4"
  }
 },
 "nbformat": 4,
 "nbformat_minor": 0
}
