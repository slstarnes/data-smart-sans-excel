{
 "cells": [
  {
   "cell_type": "markdown",
   "metadata": {},
   "source": [
    "# Data Smart Sans Excel\n",
    "\n",
    "[Table of Contents](Data%20Smart%20Sans%20Excel.ipynb)\n",
    "\n",
    "If you have not downloaded the Data Smart files then run the first code block of the main notebook and it will download the files from the web. "
   ]
  },
  {
   "cell_type": "markdown",
   "metadata": {},
   "source": [
    "## Chapter 3 - Naïve Bayes"
   ]
  },
  {
   "cell_type": "code",
   "execution_count": 47,
   "metadata": {
    "collapsed": false
   },
   "outputs": [],
   "source": [
    "import os\n",
    "import pandas as pd\n",
    "import numpy as np\n",
    "excel_file = os.path.join(os.getcwd(), \"data_smart_files\", \"\", \"Mandrill.xlsx\")\n",
    "about_mandrill_df = pd.read_excel(excel_file, 'AboutMandrillApp', parse_cols = \"A\", index_col=None)\n",
    "about_other_df = pd.read_excel(excel_file, 'AboutOther', parse_cols = \"A\", index_col=None)\n",
    "\n",
    "def clean(s): \n",
    "    s = s.lower()\n",
    "    s = s.replace('. ', ' ')\n",
    "    s = s.replace(': ', ' ')\n",
    "    s = s.replace('?', ' ')\n",
    "    s = s.replace('!', ' ')\n",
    "    s = s.replace(';', ' ')\n",
    "    s = s.replace(',', ' ')\n",
    "    return s\n",
    "\n",
    "def split_(s):\n",
    "    return s.split(' ')\n",
    "\n",
    "#Clean each tweet and then split the tweets into lists of words\n",
    "about_mandrill_df = about_mandrill_df.applymap(clean)\n",
    "about_mandrill_df = about_mandrill_df.applymap(split_)\n",
    "about_other_df = about_other_df.applymap(clean)\n",
    "about_other_df = about_other_df.applymap(split_)"
   ]
  },
  {
   "cell_type": "markdown",
   "metadata": {},
   "source": [
    "Turn the training tweets into lists of unique words (tokens)"
   ]
  },
  {
   "cell_type": "code",
   "execution_count": 20,
   "metadata": {
    "collapsed": false
   },
   "outputs": [],
   "source": [
    "import itertools\n",
    "about_mandrill_words = []\n",
    "for row in about_mandrill_df.itertuples():\n",
    "    about_mandrill_words.append(row[1])\n",
    "about_mandrill_words  = list(itertools.chain(*about_mandrill_words)) #flatten list\n",
    "amw_unique = set(about_mandrill_words)\n",
    "if '' in amw_unique:\n",
    "    amw_unique.remove('')\n",
    "\n",
    "about_other_words = []\n",
    "for row in about_other_df.itertuples():\n",
    "    about_other_words.append(row[1])\n",
    "about_other_words  = list(itertools.chain(*about_other_words)) #flatten list\n",
    "aow_unique = set(about_other_words)\n",
    "if '' in aow_unique:\n",
    "    aow_unique.remove('')"
   ]
  },
  {
   "cell_type": "markdown",
   "metadata": {},
   "source": [
    "Count the occurance of each token within the training sets."
   ]
  },
  {
   "cell_type": "code",
   "execution_count": 52,
   "metadata": {
    "collapsed": false
   },
   "outputs": [],
   "source": [
    "about_mandrill_count_dict = {}\n",
    "for word in amw_unique:\n",
    "    about_mandrill_count_dict[word] = about_mandrill_words.count(word) + 1\n",
    "md_sum = sum(about_mandrill_count_dict.values()) \n",
    "\n",
    "about_other_count_dict = {}\n",
    "for word in aow_unique:\n",
    "    about_other_count_dict[word] = about_other_words.count(word) + 1\n",
    "ot_sum = sum(about_other_count_dict.values()) "
   ]
  },
  {
   "cell_type": "markdown",
   "metadata": {},
   "source": [
    "Calculate the probality of each tokens occurance within the training set as well as the natural log."
   ]
  },
  {
   "cell_type": "code",
   "execution_count": 38,
   "metadata": {
    "collapsed": false
   },
   "outputs": [],
   "source": [
    "md_df = pd.DataFrame(list(about_mandrill_count_dict.values()),index=list(about_mandrill_count_dict.keys()))\n",
    "md_df.rename(columns={0: 'Token Count + 1'}, inplace=True)\n",
    "md_df['P(Token|App)'] = md_df['Token Count + 1'] / md_sum\n",
    "md_df['LN(P)'] = np.log(md_df['P(Token|App)'])\n",
    "\n",
    "ot_df = pd.DataFrame(list(about_other_count_dict.values()),index=list(about_other_count_dict.keys()))\n",
    "ot_df.rename(columns={0: 'Token Count + 1'}, inplace=True)\n",
    "ot_df['P(Token|Other)'] = ot_df['Token Count + 1'] / ot_sum\n",
    "ot_df['LN(P)'] = np.log(ot_df['P(Token|Other)'])"
   ]
  },
  {
   "cell_type": "markdown",
   "metadata": {},
   "source": [
    "A function to determine the conditional probability for a particular tweet and an associated model"
   ]
  },
  {
   "cell_type": "code",
   "execution_count": 49,
   "metadata": {
    "collapsed": false
   },
   "outputs": [],
   "source": [
    "def tweet_scorer(tweet, probs_df):\n",
    "    #tweet is list of individual words\n",
    "    prob_total = 0\n",
    "    s = probs_df['Token Count + 1'].sum()\n",
    "    for word in tweet.split(' '):\n",
    "        if len(word) <= 3: continue # no score for short words\n",
    "        if word in probs_df.index:\n",
    "            prob_total += probs_df['LN(P)'].loc[word]\n",
    "        else:\n",
    "            prob_total += np.log(1/s)\n",
    "    return prob_total"
   ]
  },
  {
   "cell_type": "markdown",
   "metadata": {},
   "source": [
    "Use model to predict class of each test tweet"
   ]
  },
  {
   "cell_type": "code",
   "execution_count": 55,
   "metadata": {
    "collapsed": false
   },
   "outputs": [
    {
     "name": "stdout",
     "output_type": "stream",
     "text": [
      "Predictions\n",
      "-------------\n",
      "#1: Mandrill App (just love @mandrillapp transactional email service - http://mandrill.com sorry @sendgrid and @mailjet #timetomoveon)\n",
      "#2: Mandrill App (@rossdeane mind submitting a request at http://help.mandrill.com with account details if you haven't already  glad to take a look )\n",
      "#3: Mandrill App (@veroapp any chance you'll be adding mandrill support to vero )\n",
      "#4: Mandrill App (@elie__ @camj59 jparle de relai smtp 1 million de mail chez mandrill / mois comparé à 1 million sur lite sendgrid y a pas photo avec mailjet)\n",
      "#5: Mandrill App (would like to send emails for welcome  password resets  payment notifications  etc what should i use  was looking at mailgun/mandrill)\n",
      "#6: Mandrill App (from coworker about using mandrill  \"i would entrust email handling to a pokemon\".)\n",
      "#7: Mandrill App (@mandrill realised i did that about 5 seconds after hitting send )\n",
      "#8: Mandrill App (holy shit it’s here http://www.mandrill.com/ )\n",
      "#9: Mandrill App (our new subscriber profile page activity timeline  aggregate engagement stats  and mandrill integratio #bjcbranding http://bit.ly/13wau5c )\n",
      "#10: Mandrill App (@mandrillapp increases scalability ( http://bit.ly/14myvuh  ) then decreases pricing ( http://bit.ly/13uja7s  ) #selfinducedcannibalization)\n",
      "#11: Other (the beets  rt @missmya #nameanamazingband mandrill )\n",
      "#12: Other (rt @luissand0val fernando vargas mandrill mexican pride mma)\n",
      "#13: Other (photo oculi-ds mandrill by natalie manuel http://tmblr.co/zjqanxhdswlr )\n",
      "#14: Other (@mandrill me neither    we can be :sadpanda together :()\n",
      "#15: Other (@mandrill n  / ( k  * ( n  - k  ) ) where n = 5 and k = 4  it has been a long time but i think that is it)\n",
      "#16: Other (megaman x - spark mandrill acapella http://youtu.be/hyx9-kwyjdi  @youtubeさんから)\n",
      "#17: Other (@angeluserrare1 storm eagle ftw     nomás no dejes que se le acerque spark mandrill xd)\n",
      "#18: Other (gostei de um vídeo @youtube http://youtu.be/xzny7zimtni aspark … mandrill's stage on guitar (mega man x))\n",
      "#19: Mandrill App (what is 2-year-old mandrill  jj  thinking in this pic  http://ow.ly/jfrqf  re-tweet with your caption.)\n",
      "#20: Other (120 years of moscow zoo - mandrill - поста ссср  #postage #stamp 3347 from soviet union in 1984 #philately http://tinyurl.com/cguyvzb )\n"
     ]
    }
   ],
   "source": [
    "test_tweets_df = pd.read_excel(excel_file, 'TestTweets', parse_cols = \"C\", index_col=None)\n",
    "test_tweets_df = test_tweets_df.applymap(clean)\n",
    "\n",
    "print ('Predictions')\n",
    "print ('-'*13)\n",
    "num = 1\n",
    "for row in test_tweets_df.itertuples():\n",
    "    tweet = row[1]\n",
    "    if tweet_scorer(tweet, md_df) > tweet_scorer(tweet, ot_df):\n",
    "        print ('#%i: Mandrill App (%s)'%(num, tweet))\n",
    "    else:\n",
    "        print ('#%i: Other (%s)'%(num, tweet))\n",
    "    num += 1"
   ]
  },
  {
   "cell_type": "markdown",
   "metadata": {},
   "source": [
    "We got the same predictions as the book. "
   ]
  },
  {
   "cell_type": "code",
   "execution_count": null,
   "metadata": {
    "collapsed": true
   },
   "outputs": [],
   "source": []
  }
 ],
 "metadata": {
  "kernelspec": {
   "display_name": "Python 3",
   "language": "python",
   "name": "python3"
  },
  "language_info": {
   "codemirror_mode": {
    "name": "ipython",
    "version": 3
   },
   "file_extension": ".py",
   "mimetype": "text/x-python",
   "name": "python",
   "nbconvert_exporter": "python",
   "pygments_lexer": "ipython3",
   "version": "3.4.4"
  }
 },
 "nbformat": 4,
 "nbformat_minor": 0
}
