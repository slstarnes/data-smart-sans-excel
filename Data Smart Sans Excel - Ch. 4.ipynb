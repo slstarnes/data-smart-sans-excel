{
 "cells": [
  {
   "cell_type": "markdown",
   "metadata": {},
   "source": [
    "# Data Smart Sans Excel\n",
    "\n",
    "[Table of Contents](Data%20Smart%20Sans%20Excel.ipynb)\n",
    "\n",
    "If you have not downloaded the Data Smart files then run the first code block of the main notebook and it will download the files from the web. "
   ]
  },
  {
   "cell_type": "markdown",
   "metadata": {},
   "source": [
    "## Chapter 3 - Optimization Modeling"
   ]
  },
  {
   "cell_type": "markdown",
   "metadata": {},
   "source": [
    "* Objective: Minimize procurement costs.\n",
    "* Decisions: Amount of each juice to buy each month\n",
    "* Constraints:\n",
    "    * Demand (600k in Jan/Feb, 700k in Mar)\n",
    "    * Supply\n",
    "    * Florida Valencia requirement: Buy 40% of juice from FL.\n",
    "    * Flavor: \n",
    "        * 11.5 < BAR < 12.5\n",
    "        * 0.75 < Acid < 1\n",
    "        * Astrigency <= 4\n",
    "    * Color: 4.5 < Color < 5.5"
   ]
  },
  {
   "cell_type": "code",
   "execution_count": null,
   "metadata": {
    "collapsed": true
   },
   "outputs": [],
   "source": []
  }
 ],
 "metadata": {
  "kernelspec": {
   "display_name": "Python 3",
   "language": "python",
   "name": "python3"
  },
  "language_info": {
   "codemirror_mode": {
    "name": "ipython",
    "version": 3
   },
   "file_extension": ".py",
   "mimetype": "text/x-python",
   "name": "python",
   "nbconvert_exporter": "python",
   "pygments_lexer": "ipython3",
   "version": "3.4.4"
  }
 },
 "nbformat": 4,
 "nbformat_minor": 0
}
