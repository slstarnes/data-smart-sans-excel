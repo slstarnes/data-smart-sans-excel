{
 "cells": [
  {
   "cell_type": "markdown",
   "metadata": {},
   "source": [
    "# Data Smart Sans Excel\n",
    "\n",
    "[Table of Contents](Data%20Smart%20Sans%20Excel.ipynb)\n",
    "\n",
    "If you have not downloaded the Data Smart files then run the first code block of the main notebook and it will download the files from the web. "
   ]
  },
  {
   "cell_type": "markdown",
   "metadata": {},
   "source": [
    "## Chapter 3 - Optimization Modeling"
   ]
  },
  {
   "cell_type": "code",
   "execution_count": 4,
   "metadata": {
    "collapsed": false
   },
   "outputs": [],
   "source": [
    "import os\n",
    "import pandas as pd\n",
    "import numpy as np\n",
    "excel_file = os.path.join(os.getcwd(), \"data_smart_files\", \"ch04\", \"OrangeJuiceBlending.xlsx\")\n",
    "specs_df = pd.read_excel(excel_file, 'Specs', parse_cols = \"A:I\", index_col=0)"
   ]
  },
  {
   "cell_type": "markdown",
   "metadata": {},
   "source": [
    "* Objective: Minimize procurement costs.\n",
    "* Decisions: Amount of each juice to buy each month\n",
    "* Constraints:\n",
    "    * Demand (600k in Jan/Feb, 700k in Mar)\n",
    "    * Supply\n",
    "    * Florida Valencia requirement: Buy 40% of juice from FL.\n",
    "    * Flavor: \n",
    "        * 11.5 < BAR < 12.5\n",
    "        * 0.75 < Acid < 1\n",
    "        * Astrigency <= 4\n",
    "    * Color: 4.5 < Color < 5.5"
   ]
  },
  {
   "cell_type": "code",
   "execution_count": 5,
   "metadata": {
    "collapsed": false
   },
   "outputs": [
    {
     "name": "stdout",
     "output_type": "stream",
     "text": [
      "                    Region  Qty Available (1,000 Gallons)  Brix / Acid Ratio  \\\n",
      "Varietal                                                                       \n",
      "Hamlin              Brazil                            672               10.5   \n",
      "Mosambi              India                            400                6.5   \n",
      "Valencia           Florida                           1200               12.0   \n",
      "Hamlin          California                            168               11.0   \n",
      "Gardner            Arizona                             84               12.0   \n",
      "Sunstar              Texas                            210               10.0   \n",
      "Jincheng             China                            588                9.0   \n",
      "Berna                Spain                            168               15.0   \n",
      "Verna               Mexico                            300                8.0   \n",
      "Biondo Commune       Egypt                            210               13.0   \n",
      "Belladonna           Italy                            180               14.0   \n",
      "\n",
      "                Acid (%)  Astringency (1-10 Scale)  Color (1-10 Scale)  \\\n",
      "Varietal                                                                 \n",
      "Hamlin            0.0060                         3                   3   \n",
      "Mosambi           0.0140                         7                   1   \n",
      "Valencia          0.0095                         3                   3   \n",
      "Hamlin            0.0100                         3                   5   \n",
      "Gardner           0.0070                         1                   5   \n",
      "Sunstar           0.0070                         1                   5   \n",
      "Jincheng          0.0135                         7                   3   \n",
      "Berna             0.0110                         4                   8   \n",
      "Verna             0.0130                         8                   3   \n",
      "Biondo Commune    0.0130                         3                   5   \n",
      "Belladonna        0.0050                         3                   9   \n",
      "\n",
      "                Price (per 1K Gallons)  Shipping  \n",
      "Varietal                                          \n",
      "Hamlin                             500       100  \n",
      "Mosambi                            310       150  \n",
      "Valencia                           750         0  \n",
      "Hamlin                             600        60  \n",
      "Gardner                            600        75  \n",
      "Sunstar                            625        50  \n",
      "Jincheng                           440       120  \n",
      "Berna                              600       110  \n",
      "Verna                              300        90  \n",
      "Biondo Commune                     460       130  \n",
      "Belladonna                         505       115  \n"
     ]
    }
   ],
   "source": [
    "print (specs_df)"
   ]
  },
  {
   "cell_type": "code",
   "execution_count": null,
   "metadata": {
    "collapsed": false
   },
   "outputs": [],
   "source": [
    "total_required = [600, 600, 700]\n",
    "valencia_required = [0.4*x for x in total_required]\n",
    "    \n",
    "quality_cons_min = [11.5, 0.0075, 0, 4.5]\n",
    "quality_cons_max = [12.5, 0.01, 4, 5.5]"
   ]
  },
  {
   "cell_type": "code",
   "execution_count": 102,
   "metadata": {
    "collapsed": false
   },
   "outputs": [],
   "source": [
    "def opti(x, baseline_data):\n",
    "    \n",
    "    opti_model = baseline_data\n",
    "    \n",
    "    opti_model['Jan Orders'] = x[:11]\n",
    "    opti_model['Feb Orders'] = x[11:22]\n",
    "    opti_model['Mar Orders'] = x[22:33] \n",
    "\n",
    "    opti_model['Jan Price'] = opti_model['Jan Orders'] * opti_model['Price (per 1K Gallons)']\n",
    "    opti_model['Feb Price'] = opti_model['Feb Orders'] * opti_model['Price (per 1K Gallons)']\n",
    "    opti_model['Mar Price'] = opti_model['Mar Orders'] * opti_model['Price (per 1K Gallons)']\n",
    "    \n",
    "    opti_model['Jan Shipping'] = opti_model['Jan Orders'] * opti_model['Shipping']\n",
    "    opti_model['Feb Shipping'] = opti_model['Feb Orders'] * opti_model['Shipping']\n",
    "    opti_model['Mar Shipping'] = opti_model['Mar Orders'] * opti_model['Shipping']\n",
    "   \n",
    "    o_i = list(opti_model.index)    \n",
    "    o_i.append('Total')    \n",
    "    opti_model = opti_model.append(opti_model.sum(numeric_only=True), ignore_index=True)\n",
    "    opti_model['I'] = o_i\n",
    "    opti_model.set_index('I', drop=True, inplace=True)\n",
    "\n",
    "    total_cost = opti_model.at['Total','Jan Price'] + opti_model.at['Total','Feb Price'] + opti_model.at['Total','Mar Price'] + opti_model.at['Total', 'Jan Shipping'] + opti_model.at['Total','Feb Shipping'] + opti_model.at['Total','Mar Shipping']\n",
    "\n",
    "    return total_cost"
   ]
  },
  {
   "cell_type": "code",
   "execution_count": 97,
   "metadata": {
    "collapsed": false
   },
   "outputs": [],
   "source": [
    "#def cons(x, baseline):\n",
    "#    opti_model = baseline_data\n",
    "    \n",
    "#    opti_model['Jan Orders'] = x[:11]\n",
    "#    opti_model['Feb Orders'] = x[11:22]\n",
    "#    opti_model['Mar Orders'] = x[22:33] \n",
    "    \n",
    "    #opti_model['Jan Price'] = opti_model['Jan Orders'] * opti_model['Price (per 1K Gallons)']\n",
    "    #opti_model['Feb Price'] = opti_model['Feb Orders'] * opti_model['Price (per 1K Gallons)']\n",
    "    #opti_model['Mar Price'] = opti_model['Mar Orders'] * opti_model['Price (per 1K Gallons)']\n",
    "    \n",
    "    #opti_model['Jan Shipping'] = opti_model['Jan Orders'] * opti_model['Shipping']\n",
    "    #opti_model['Feb Shipping'] = opti_model['Feb Orders'] * opti_model['Shipping']\n",
    "    #opti_model['Mar Shipping'] = opti_model['Mar Orders'] * opti_model['Shipping']\n",
    "   \n",
    "    #o_i = list(opti_model.index)    \n",
    "    #o_i.append('Total')    \n",
    "    #opti_model = opti_model.append(opti_model.sum(numeric_only=True), ignore_index=True)\n",
    "    #opti_model['I'] = o_i\n",
    "    #opti_model.set_index('I', drop=True, inplace=True)\n",
    "    \n",
    "    #opti_model.at['Total','Jan Orders'] + opti_model.at['Total','Feb Orders'] + opti_model.at['Total','Mar Orders']\n",
    "    \n",
    "    \n",
    "#    total_required = [600, 600, 700]\n",
    "#    valencia_required = [0.4*x for x in total_required]\n",
    "    \n",
    "#    quality_cons_min = [11.5, 0.0075, 0, 4.5]\n",
    "#    quality_cons_max = [12.5, 0.01, 4, 5.5]\n",
    "#    \n",
    "    \n",
    "    \n",
    "    #quality_df = pd.DataFrame(np.zeros(4, 5), cols=['Jan','Feb','Mar','Min','Max'], \n",
    "    #                         index=['BAR', 'Acid', 'Astrigency', 'Color'])\n",
    "    \n"
   ]
  },
  {
   "cell_type": "code",
   "execution_count": null,
   "metadata": {
    "collapsed": false
   },
   "outputs": [],
   "source": [
    "\n"
   ]
  },
  {
   "cell_type": "code",
   "execution_count": 105,
   "metadata": {
    "collapsed": false
   },
   "outputs": [
    {
     "name": "stdout",
     "output_type": "stream",
     "text": [
      "[ 54.54545455  54.54545455  54.54545455  54.54545455  54.54545455\n",
      "  54.54545455  54.54545455  54.54545455  54.54545455  54.54545455\n",
      "  54.54545455  54.54545455  54.54545455  54.54545455  54.54545455\n",
      "  54.54545455  54.54545455  54.54545455  54.54545455  54.54545455\n",
      "  54.54545455  54.54545455  63.63636364  63.63636364  63.63636364\n",
      "  63.63636364  63.63636364  63.63636364  63.63636364  63.63636364\n",
      "  63.63636364  63.63636364  63.63636364]\n",
      "     fun: -2097436715.0218334\n",
      "     jac: array([ 576.,  416.,  736.,  672.,  672.,  640.,  512.,  704.,  352.,\n",
      "        608.,  608.,  608.,  480.,  768.,  704.,  704.,  672.,  544.,\n",
      "        672.,  416.,  576.,  608.,  608.,  464.,  768.,  704.,  640.,\n",
      "        672.,  560.,  672.,  368.,  576.,  608.,    0.])\n",
      " message: 'Positive directional derivative for linesearch'\n",
      "    nfev: 2559\n",
      "     nit: 77\n",
      "    njev: 73\n",
      "  status: 8\n",
      " success: False\n",
      "       x: array([  5.53451082e+01,   5.41734251e+01,   5.46003764e+01,\n",
      "         5.41173041e+01,   5.39381910e+01,   5.51342418e+01,\n",
      "         5.50683223e+01,   5.44269265e+01,   5.36352873e+01,\n",
      "         5.44552882e+01,   5.51055292e+01,   1.67093022e+06,\n",
      "        -1.88195269e+05,  -2.66266295e+06,   5.41173041e+01,\n",
      "         1.00528450e+06,  -1.89995426e+06,  -2.59875700e+06,\n",
      "        -2.05550242e+06,   2.28280280e+06,   3.74691990e+06,\n",
      "         6.99680353e+05,   1.71505902e+06,  -1.01807893e+05,\n",
      "        -2.64700190e+06,   6.31368547e+01,   9.47535315e+05,\n",
      "        -1.84582379e+06,  -2.60709922e+06,  -1.87117702e+06,\n",
      "         2.18140489e+06,   3.60663207e+06,   6.22915392e+05])\n"
     ]
    }
   ],
   "source": [
    "from scipy.optimize import minimize\n",
    "\n",
    "def orders_check(o, req):\n",
    "    return o.sum() - req\n",
    "\n",
    "def qual_cons_compare(orders,baseline, measure, mvm, constraint, total):\n",
    "    return mvm*(constraint - ((orders * baseline[measure]).sum() / total))\n",
    "\n",
    "cons = [{'type': 'eq', 'fun': lambda x: orders_check(x[:11],total_required[0])},\n",
    "        {'type': 'eq', 'fun': lambda x: orders_check(x[11:22],total_required[1])},\n",
    "        {'type': 'eq', 'fun': lambda x: orders_check(x[22:33],total_required[2])},\n",
    "        {'type': 'eq', 'fun': lambda x: orders_check(x[3],valencia_required[0])},\n",
    "        {'type': 'eq', 'fun': lambda x: orders_check(x[14],valencia_required[1])},\n",
    "        {'type': 'eq', 'fun': lambda x: orders_check(x[25],valencia_required[2])},                                            \n",
    "        {'type': 'ineq', 'fun': lambda x: qual_cons_compare(x[:11],specs_df,'Brix / Acid Ratio',1,quality_cons_max[0],total_required[0])},\n",
    "        {'type': 'ineq', 'fun': lambda x: qual_cons_compare(x[:11],specs_df,'Acid (%)',1,quality_cons_max[1],total_required[0])},\n",
    "        {'type': 'ineq', 'fun': lambda x: qual_cons_compare(x[:11],specs_df,'Astringency (1-10 Scale)',1,quality_cons_max[2],total_required[0])},\n",
    "        {'type': 'ineq', 'fun': lambda x: qual_cons_compare(x[:11],specs_df,'Color (1-10 Scale)',1,quality_cons_max[3],total_required[0])},\n",
    "        {'type': 'ineq', 'fun': lambda x: qual_cons_compare(x[11:22],specs_df,'Brix / Acid Ratio',1,quality_cons_max[0],total_required[1])},\n",
    "        {'type': 'ineq', 'fun': lambda x: qual_cons_compare(x[11:22],specs_df,'Acid (%)',1,quality_cons_max[1],total_required[1])},\n",
    "        {'type': 'ineq', 'fun': lambda x: qual_cons_compare(x[11:22],specs_df,'Astringency (1-10 Scale)',1,quality_cons_max[2],total_required[1])},\n",
    "        {'type': 'ineq', 'fun': lambda x: qual_cons_compare(x[11:22],specs_df,'Color (1-10 Scale)',1,quality_cons_max[3],total_required[1])},\n",
    "        {'type': 'ineq', 'fun': lambda x: qual_cons_compare(x[22:33],specs_df,'Brix / Acid Ratio',1,quality_cons_max[0],total_required[2])},\n",
    "        {'type': 'ineq', 'fun': lambda x: qual_cons_compare(x[22:33],specs_df,'Acid (%)',1,quality_cons_max[1],total_required[2])},\n",
    "        {'type': 'ineq', 'fun': lambda x: qual_cons_compare(x[22:33],specs_df,'Astringency (1-10 Scale)',1,quality_cons_max[2],total_required[2])},\n",
    "        {'type': 'ineq', 'fun': lambda x: qual_cons_compare(x[22:33],specs_df,'Color (1-10 Scale)',1,quality_cons_max[3],total_required[2])},\n",
    "        {'type': 'ineq', 'fun': lambda x: qual_cons_compare(x[:11],specs_df,'Brix / Acid Ratio',-1,quality_cons_min[0],total_required[0])},\n",
    "        {'type': 'ineq', 'fun': lambda x: qual_cons_compare(x[:11],specs_df,'Acid (%)',-1,quality_cons_min[1],total_required[0])},\n",
    "        {'type': 'ineq', 'fun': lambda x: qual_cons_compare(x[:11],specs_df,'Astringency (1-10 Scale)',-1,quality_cons_min[2],total_required[0])},\n",
    "        {'type': 'ineq', 'fun': lambda x: qual_cons_compare(x[:11],specs_df,'Color (1-10 Scale)',-1,quality_cons_min[3],total_required[0])},\n",
    "        {'type': 'ineq', 'fun': lambda x: qual_cons_compare(x[11:22],specs_df,'Brix / Acid Ratio',-1,quality_cons_min[0],total_required[1])},\n",
    "        {'type': 'ineq', 'fun': lambda x: qual_cons_compare(x[11:22],specs_df,'Acid (%)',-1,quality_cons_min[1],total_required[1])},\n",
    "        {'type': 'ineq', 'fun': lambda x: qual_cons_compare(x[11:22],specs_df,'Astringency (1-10 Scale)',-1,quality_cons_min[2],total_required[1])},\n",
    "        {'type': 'ineq', 'fun': lambda x: qual_cons_compare(x[11:22],specs_df,'Color (1-10 Scale)',-1,quality_cons_min[3],total_required[1])},\n",
    "        {'type': 'ineq', 'fun': lambda x: qual_cons_compare(x[22:33],specs_df,'Brix / Acid Ratio',-1,quality_cons_min[0],total_required[2])},\n",
    "        {'type': 'ineq', 'fun': lambda x: qual_cons_compare(x[22:33],specs_df,'Acid (%)',-1,quality_cons_min[1],total_required[2])},\n",
    "        {'type': 'ineq', 'fun': lambda x: qual_cons_compare(x[22:33],specs_df,'Astringency (1-10 Scale)',-1,quality_cons_min[2],total_required[2])},\n",
    "        {'type': 'ineq', 'fun': lambda x: qual_cons_compare(x[22:33],specs_df,'Color (1-10 Scale)',-1,quality_cons_min[3],total_required[2])},\n",
    "        {'type': 'ineq', 'fun': lambda x: x[:11] - specs_df['Qty Available (1,000 Gallons)'].values}]\n",
    "\n",
    "\n",
    "\n",
    "#x0 = np.random.random_integers(0,100,(33)) \n",
    "x0 = np.zeros(33)\n",
    "\n",
    "x0[:11] = total_required[0] / 11\n",
    "x0[11:22] = total_required[1] / 11\n",
    "x0[22:33] = total_required[2] / 11\n",
    "\n",
    "print (x0)\n",
    "\n",
    "res = minimize(opti, x0, method='SLSQP', args=specs_df, constraints=cons)\n",
    "\n",
    "print (res)"
   ]
  },
  {
   "cell_type": "code",
   "execution_count": null,
   "metadata": {
    "collapsed": true
   },
   "outputs": [],
   "source": []
  }
 ],
 "metadata": {
  "kernelspec": {
   "display_name": "Python 3",
   "language": "python",
   "name": "python3"
  },
  "language_info": {
   "codemirror_mode": {
    "name": "ipython",
    "version": 3
   },
   "file_extension": ".py",
   "mimetype": "text/x-python",
   "name": "python",
   "nbconvert_exporter": "python",
   "pygments_lexer": "ipython3",
   "version": "3.5.1"
  }
 },
 "nbformat": 4,
 "nbformat_minor": 0
}
