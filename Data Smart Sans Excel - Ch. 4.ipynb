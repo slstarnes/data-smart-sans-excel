{
 "cells": [
  {
   "cell_type": "markdown",
   "metadata": {},
   "source": [
    "# Data Smart Sans Excel\n",
    "\n",
    "[Table of Contents](Data%20Smart%20Sans%20Excel.ipynb)\n",
    "\n",
    "If you have not downloaded the Data Smart files then run the first code block of the main notebook and it will download the files from the web. "
   ]
  },
  {
   "cell_type": "markdown",
   "metadata": {},
   "source": [
    "## Chapter 4 - Optimization Modeling"
   ]
  },
  {
   "cell_type": "code",
   "execution_count": 1,
   "metadata": {
    "collapsed": false
   },
   "outputs": [],
   "source": [
    "import os\n",
    "import pandas as pd\n",
    "import numpy as np\n",
    "excel_file = os.path.join(os.getcwd(), \"data_smart_files\", \"ch04\", \"OrangeJuiceBlending.xlsx\")\n",
    "specs_df = pd.read_excel(excel_file, 'Specs', parse_cols = \"A:I\", index_col=0)"
   ]
  },
  {
   "cell_type": "markdown",
   "metadata": {},
   "source": [
    "* Objective: Minimize procurement costs.\n",
    "* Decisions: Amount of each juice to buy each month\n",
    "* Constraints:\n",
    "    * Demand (600k in Jan/Feb, 700k in Mar)\n",
    "    * Supply\n",
    "    * Florida Valencia requirement: Buy 40% of juice from FL.\n",
    "    * Flavor: \n",
    "        * 11.5 < BAR < 12.5\n",
    "        * 0.75 < Acid < 1\n",
    "        * Astrigency <= 4\n",
    "    * Color: 4.5 < Color < 5.5"
   ]
  },
  {
   "cell_type": "code",
   "execution_count": 2,
   "metadata": {
    "collapsed": false
   },
   "outputs": [
    {
     "name": "stdout",
     "output_type": "stream",
     "text": [
      "                    Region  Qty Available (1,000 Gallons)  Brix / Acid Ratio  \\\n",
      "Varietal                                                                       \n",
      "Hamlin              Brazil                            672               10.5   \n",
      "Mosambi              India                            400                6.5   \n",
      "Valencia           Florida                           1200               12.0   \n",
      "Hamlin          California                            168               11.0   \n",
      "Gardner            Arizona                             84               12.0   \n",
      "Sunstar              Texas                            210               10.0   \n",
      "Jincheng             China                            588                9.0   \n",
      "Berna                Spain                            168               15.0   \n",
      "Verna               Mexico                            300                8.0   \n",
      "Biondo Commune       Egypt                            210               13.0   \n",
      "Belladonna           Italy                            180               14.0   \n",
      "\n",
      "                Acid (%)  Astringency (1-10 Scale)  Color (1-10 Scale)  \\\n",
      "Varietal                                                                 \n",
      "Hamlin            0.0060                         3                   3   \n",
      "Mosambi           0.0140                         7                   1   \n",
      "Valencia          0.0095                         3                   3   \n",
      "Hamlin            0.0100                         3                   5   \n",
      "Gardner           0.0070                         1                   5   \n",
      "Sunstar           0.0070                         1                   5   \n",
      "Jincheng          0.0135                         7                   3   \n",
      "Berna             0.0110                         4                   8   \n",
      "Verna             0.0130                         8                   3   \n",
      "Biondo Commune    0.0130                         3                   5   \n",
      "Belladonna        0.0050                         3                   9   \n",
      "\n",
      "                Price (per 1K Gallons)  Shipping  \n",
      "Varietal                                          \n",
      "Hamlin                             500       100  \n",
      "Mosambi                            310       150  \n",
      "Valencia                           750         0  \n",
      "Hamlin                             600        60  \n",
      "Gardner                            600        75  \n",
      "Sunstar                            625        50  \n",
      "Jincheng                           440       120  \n",
      "Berna                              600       110  \n",
      "Verna                              300        90  \n",
      "Biondo Commune                     460       130  \n",
      "Belladonna                         505       115  \n"
     ]
    }
   ],
   "source": [
    "print (specs_df)"
   ]
  },
  {
   "cell_type": "code",
   "execution_count": 3,
   "metadata": {
    "collapsed": false
   },
   "outputs": [],
   "source": [
    "total_required = [600, 600, 700]\n",
    "valencia_required = [0.4*x for x in total_required]\n",
    "    \n",
    "quality_cons_min = [11.5, 0.0075, 0, 4.5]\n",
    "quality_cons_max = [12.5, 0.01, 4, 5.5]"
   ]
  },
  {
   "cell_type": "code",
   "execution_count": 21,
   "metadata": {
    "collapsed": false
   },
   "outputs": [],
   "source": [
    "def opti(x, baseline_data):\n",
    "    opti_model = baseline_data.copy()\n",
    "    \n",
    "    if opti_model.shape[0] == 11: # 11 rows \n",
    "        opti_model['Jan Orders'] = x[:11]\n",
    "        opti_model['Feb Orders'] = x[11:22]\n",
    "        opti_model['Mar Orders'] = x[22:33] \n",
    "\n",
    "    opti_model['Jan Price'] = opti_model['Jan Orders'] * opti_model['Price (per 1K Gallons)']\n",
    "    opti_model['Feb Price'] = opti_model['Feb Orders'] * opti_model['Price (per 1K Gallons)']\n",
    "    opti_model['Mar Price'] = opti_model['Mar Orders'] * opti_model['Price (per 1K Gallons)']\n",
    "    \n",
    "    opti_model['Jan Shipping'] = opti_model['Jan Orders'] * opti_model['Shipping']\n",
    "    opti_model['Feb Shipping'] = opti_model['Feb Orders'] * opti_model['Shipping']\n",
    "    opti_model['Mar Shipping'] = opti_model['Mar Orders'] * opti_model['Shipping']\n",
    "   \n",
    "    opti_model.loc['Total'] = opti_model.sum(numeric_only=True)\n",
    "    \n",
    "    total_cost = opti_model.at['Total','Jan Price'] + opti_model.at['Total','Feb Price'] + opti_model.at['Total','Mar Price'] + opti_model.at['Total', 'Jan Shipping'] + opti_model.at['Total','Feb Shipping'] + opti_model.at['Total','Mar Shipping']\n",
    "    \n",
    "    return total_cost"
   ]
  },
  {
   "cell_type": "code",
   "execution_count": 5,
   "metadata": {
    "collapsed": false
   },
   "outputs": [],
   "source": [
    "%matplotlib notebook\n",
    "import matplotlib.pyplot as plt\n",
    "import matplotlib.ticker as ticker\n",
    "from matplotlib import gridspec\n",
    "\n",
    "def plot_init():\n",
    "    fig = plt.figure(figsize=(10, 4))\n",
    "    gs = gridspec.GridSpec(1, 2, width_ratios=[2, 2]) \n",
    "    ax0 = plt.subplot(gs[0])\n",
    "    ax1 = plt.subplot(gs[1])\n",
    "    ax0.set_xlabel('Time')\n",
    "    ax0.set_ylabel('Total Distance')\n",
    "    #ax1.set_xlabel('Offers')\n",
    "    #ax1.set_ylabel('Clusters')\n",
    "    #ax1.set_xlim(-0.5, 0.5)\n",
    "    #ax1.set_ylim(-0.5,0.5)\n",
    "    return fig, [ax0, ax1]"
   ]
  },
  {
   "cell_type": "code",
   "execution_count": null,
   "metadata": {
    "collapsed": true
   },
   "outputs": [],
   "source": []
  },
  {
   "cell_type": "code",
   "execution_count": 24,
   "metadata": {
    "collapsed": false
   },
   "outputs": [
    {
     "name": "stdout",
     "output_type": "stream",
     "text": [
      "     fun: 1177124.9999895953\n",
      "     jac: array([ 600.,  460.,  750.,  660.,  675.,  675.,  560.,  710.,  390.,\n",
      "        590.,  620.,  600.,  460.,  750.,  660.,  675.,  675.,  560.,\n",
      "        710.,  390.,  590.,  620.,  600.,  460.,  750.,  660.,  675.,\n",
      "        675.,  560.,  710.,  390.,  590.,  620.,    0.])\n",
      " message: 'Optimization terminated successfully.'\n",
      "    nfev: 281\n",
      "     nit: 9\n",
      "    njev: 8\n",
      "  status: 0\n",
      " success: True\n",
      "       x: array([ -2.19418253e-10,   5.03256742e-09,   2.40000000e+02,\n",
      "        -2.47534799e-09,   8.13356256e+00,   7.65591111e+00,\n",
      "         1.25711589e-09,  -4.35370443e-09,   1.26315789e+02,\n",
      "         1.09736842e+02,   1.08157895e+02,  -2.25156704e-10,\n",
      "         5.03117084e-09,   2.40000000e+02,  -2.47760066e-09,\n",
      "         8.13356256e+00,   7.65591111e+00,   1.27662570e-09,\n",
      "        -4.35457783e-09,   1.26315789e+02,   1.09736842e+02,\n",
      "         1.08157895e+02,  -2.25386718e-10,   5.03116698e-09,\n",
      "         2.80000000e+02,  -2.47748364e-09,   9.21052631e+00,\n",
      "         9.21052631e+00,   1.27679081e-09,  -4.35541281e-09,\n",
      "         1.47368421e+02,   1.28026316e+02,   1.26184211e+02])\n",
      "                            Jan Orders    Feb Orders    Mar Orders\n",
      "Varietal                                                          \n",
      "Hamlin                   -2.194183e-10 -2.251567e-10 -2.253867e-10\n",
      "Mosambi                   5.032567e-09  5.031171e-09  5.031167e-09\n",
      "Valencia                  2.400000e+02  2.400000e+02  2.800000e+02\n",
      "Hamlin                   -2.475348e-09 -2.477601e-09 -2.477484e-09\n",
      "Gardner                   8.133563e+00  8.133563e+00  9.210526e+00\n",
      "Sunstar                   7.655911e+00  7.655911e+00  9.210526e+00\n",
      "Jincheng                  1.257116e-09  1.276626e-09  1.276791e-09\n",
      "Berna                    -4.353704e-09 -4.354578e-09 -4.355413e-09\n",
      "Verna                     1.263158e+02  1.263158e+02  1.473684e+02\n",
      "Biondo Commune            1.097368e+02  1.097368e+02  1.280263e+02\n",
      "Belladonna                1.081579e+02  1.081579e+02  1.261842e+02\n",
      "Total                     6.000000e+02  6.000000e+02  7.000000e+02\n",
      "Brix / Acid Ratio         1.326758e+02  1.326758e+02  1.326750e+02\n",
      "Acid (%)                  1.190000e-01  1.190000e-01  1.190000e-01\n",
      "Astringency (1-10 Scale)  4.700000e+01  4.700000e+01  4.700000e+01\n",
      "Color (1-10 Scale)        5.450000e+01  5.450000e+01  5.450000e+01\n"
     ]
    }
   ],
   "source": [
    "from scipy.optimize import minimize\n",
    "\n",
    "def orders_check(o, req):\n",
    "    return o.sum() - req\n",
    "\n",
    "def qual_cons_compare(orders,baseline, measure, mvm, constraint, total):\n",
    "    return mvm*(constraint - ((orders * baseline[measure]).sum() / total))\n",
    "\n",
    "#fig, [ax0, ax1] = plot_init()  \n",
    "\n",
    "cons = [{'type': 'ineq', 'fun': lambda x: x}, # order is positive\n",
    "        {'type': 'eq', 'fun': lambda x: orders_check(x[:11],total_required[0])},\n",
    "        {'type': 'eq', 'fun': lambda x: orders_check(x[11:22],total_required[1])},\n",
    "        {'type': 'eq', 'fun': lambda x: orders_check(x[22:33],total_required[2])},\n",
    "        {'type': 'eq', 'fun': lambda x: orders_check(x[2],valencia_required[0])},\n",
    "        {'type': 'eq', 'fun': lambda x: orders_check(x[13],valencia_required[1])},\n",
    "        {'type': 'eq', 'fun': lambda x: orders_check(x[24],valencia_required[2])},\n",
    "        {'type': 'ineq', 'fun': lambda x: qual_cons_compare(x[:11],specs_df,'Brix / Acid Ratio',1,quality_cons_max[0],total_required[0])},\n",
    "        {'type': 'ineq', 'fun': lambda x: qual_cons_compare(x[:11],specs_df,'Acid (%)',1,quality_cons_max[1],total_required[0])},\n",
    "        {'type': 'ineq', 'fun': lambda x: qual_cons_compare(x[:11],specs_df,'Astringency (1-10 Scale)',1,quality_cons_max[2],total_required[0])},\n",
    "        {'type': 'ineq', 'fun': lambda x: qual_cons_compare(x[:11],specs_df,'Color (1-10 Scale)',1,quality_cons_max[3],total_required[0])},\n",
    "        {'type': 'ineq', 'fun': lambda x: qual_cons_compare(x[11:22],specs_df,'Brix / Acid Ratio',1,quality_cons_max[0],total_required[1])},\n",
    "        {'type': 'ineq', 'fun': lambda x: qual_cons_compare(x[11:22],specs_df,'Acid (%)',1,quality_cons_max[1],total_required[1])},\n",
    "        {'type': 'ineq', 'fun': lambda x: qual_cons_compare(x[11:22],specs_df,'Astringency (1-10 Scale)',1,quality_cons_max[2],total_required[1])},\n",
    "        {'type': 'ineq', 'fun': lambda x: qual_cons_compare(x[11:22],specs_df,'Color (1-10 Scale)',1,quality_cons_max[3],total_required[1])},\n",
    "        {'type': 'ineq', 'fun': lambda x: qual_cons_compare(x[22:33],specs_df,'Brix / Acid Ratio',1,quality_cons_max[0],total_required[2])},\n",
    "        {'type': 'ineq', 'fun': lambda x: qual_cons_compare(x[22:33],specs_df,'Acid (%)',1,quality_cons_max[1],total_required[2])},\n",
    "        {'type': 'ineq', 'fun': lambda x: qual_cons_compare(x[22:33],specs_df,'Astringency (1-10 Scale)',1,quality_cons_max[2],total_required[2])},\n",
    "        {'type': 'ineq', 'fun': lambda x: qual_cons_compare(x[22:33],specs_df,'Color (1-10 Scale)',1,quality_cons_max[3],total_required[2])},\n",
    "        {'type': 'ineq', 'fun': lambda x: qual_cons_compare(x[:11],specs_df,'Brix / Acid Ratio',-1,quality_cons_min[0],total_required[0])},\n",
    "        {'type': 'ineq', 'fun': lambda x: qual_cons_compare(x[:11],specs_df,'Acid (%)',-1,quality_cons_min[1],total_required[0])},\n",
    "        {'type': 'ineq', 'fun': lambda x: qual_cons_compare(x[:11],specs_df,'Astringency (1-10 Scale)',-1,quality_cons_min[2],total_required[0])},\n",
    "        {'type': 'ineq', 'fun': lambda x: qual_cons_compare(x[:11],specs_df,'Color (1-10 Scale)',-1,quality_cons_min[3],total_required[0])},\n",
    "        {'type': 'ineq', 'fun': lambda x: qual_cons_compare(x[11:22],specs_df,'Brix / Acid Ratio',-1,quality_cons_min[0],total_required[1])},\n",
    "        {'type': 'ineq', 'fun': lambda x: qual_cons_compare(x[11:22],specs_df,'Acid (%)',-1,quality_cons_min[1],total_required[1])},\n",
    "        {'type': 'ineq', 'fun': lambda x: qual_cons_compare(x[11:22],specs_df,'Astringency (1-10 Scale)',-1,quality_cons_min[2],total_required[1])},\n",
    "        {'type': 'ineq', 'fun': lambda x: qual_cons_compare(x[11:22],specs_df,'Color (1-10 Scale)',-1,quality_cons_min[3],total_required[1])},\n",
    "        {'type': 'ineq', 'fun': lambda x: qual_cons_compare(x[22:33],specs_df,'Brix / Acid Ratio',-1,quality_cons_min[0],total_required[2])},\n",
    "        {'type': 'ineq', 'fun': lambda x: qual_cons_compare(x[22:33],specs_df,'Acid (%)',-1,quality_cons_min[1],total_required[2])},\n",
    "        {'type': 'ineq', 'fun': lambda x: qual_cons_compare(x[22:33],specs_df,'Astringency (1-10 Scale)',-1,quality_cons_min[2],total_required[2])},\n",
    "        {'type': 'ineq', 'fun': lambda x: qual_cons_compare(x[22:33],specs_df,'Color (1-10 Scale)',-1,quality_cons_min[3],total_required[2])},\n",
    "        {'type': 'ineq', 'fun': lambda x: specs_df['Qty Available (1,000 Gallons)'].values - x[:11]},\n",
    "        {'type': 'ineq', 'fun': lambda x: specs_df['Qty Available (1,000 Gallons)'].values - x[11:22]},\n",
    "        {'type': 'ineq', 'fun': lambda x: specs_df['Qty Available (1,000 Gallons)'].values - x[22:33]}]\n",
    "\n",
    "x0 = np.zeros(33)\n",
    "x0[:11] = total_required[0] / 11\n",
    "x0[11:22] = total_required[1] / 11\n",
    "x0[22:33] = total_required[2] / 11\n",
    "\n",
    "res = minimize(opti, x0, args=(specs_df), constraints=cons)\n",
    "\n",
    "print (res)\n",
    "\n",
    "orders = res.x\n",
    "results = specs_df.copy()\n",
    "results['Jan Orders'] = orders[:11]\n",
    "results['Feb Orders'] = orders[11:22]\n",
    "results['Mar Orders'] = orders[22:33] \n",
    "results['Jan Price'] = results['Jan Orders'] * results['Price (per 1K Gallons)']\n",
    "results['Feb Price'] = results['Feb Orders'] * results['Price (per 1K Gallons)']\n",
    "results['Mar Price'] = results['Mar Orders'] * results['Price (per 1K Gallons)']\n",
    "results['Jan Shipping'] = results['Jan Orders'] * results['Shipping']\n",
    "results['Feb Shipping'] = results['Feb Orders'] * results['Shipping']\n",
    "results['Mar Shipping'] = results['Mar Orders'] * results['Shipping']\n",
    "results.loc['Total'] = results.sum(numeric_only=True)\n",
    "results.loc['Brix / Acid Ratio'] = 0\n",
    "results.loc['Acid (%)'] = 0\n",
    "results.loc['Astringency (1-10 Scale)'] = 0\n",
    "results.loc['Color (1-10 Scale)'] = 0\n",
    "\n",
    "for month in ['Jan', 'Feb', 'Mar']:\n",
    "    month_orders = month + ' Orders'\n",
    "    for constraint in ['Brix / Acid Ratio', 'Acid (%)', 'Astringency (1-10 Scale)', 'Color (1-10 Scale)']:\n",
    "        results.at[constraint,month_orders] = (results[month_orders] * results[constraint]).sum() / results.at['Total',month_orders]\n",
    "\n",
    "results.drop(['Region', 'Qty Available (1,000 Gallons)', 'Brix / Acid Ratio',\n",
    "              'Acid (%)', 'Astringency (1-10 Scale)', 'Color (1-10 Scale)',\n",
    "              'Price (per 1K Gallons)', 'Shipping', 'Jan Price', 'Feb Price', \n",
    "              'Mar Price', 'Jan Shipping', 'Feb Shipping', 'Mar Shipping'], axis=1, inplace=True)\n",
    "    \n",
    "print (results)"
   ]
  },
  {
   "cell_type": "code",
   "execution_count": null,
   "metadata": {
    "collapsed": true
   },
   "outputs": [],
   "source": [
    "#TODO: I am getting an error. Simply put, the function isnt solvable. It is likely an issue in the constraints. \n",
    "#As it is written it is hard to debug. Next step is to add plotting of some of the variables to show them evolve.\n",
    "#It seems that the best way to do this is to make a class allowing me to share a variable with opti each time it runs. \n",
    "\n",
    "#I made some tweaks (fixed a few constraints) and it runs successfully (success: True), but I am getting negative orders\n",
    "#even though I specifically made a constraint for orders to be positive. "
   ]
  }
 ],
 "metadata": {
  "anaconda-cloud": {},
  "kernelspec": {
   "display_name": "Python [default]",
   "language": "python",
   "name": "python3"
  },
  "language_info": {
   "codemirror_mode": {
    "name": "ipython",
    "version": 3
   },
   "file_extension": ".py",
   "mimetype": "text/x-python",
   "name": "python",
   "nbconvert_exporter": "python",
   "pygments_lexer": "ipython3",
   "version": "3.5.2"
  }
 },
 "nbformat": 4,
 "nbformat_minor": 0
}
