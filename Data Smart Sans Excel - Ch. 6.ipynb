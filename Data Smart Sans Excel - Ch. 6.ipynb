{
 "cells": [
  {
   "cell_type": "markdown",
   "metadata": {},
   "source": [
    "# Data Smart Sans Excel\n",
    "\n",
    "[Table of Contents](Data%20Smart%20Sans%20Excel.ipynb)\n",
    "\n",
    "If you have not downloaded the Data Smart files then run the first code block of the main notebook and it will download the files from the web. "
   ]
  },
  {
   "cell_type": "markdown",
   "metadata": {},
   "source": [
    "## Chapter 6 - Regression"
   ]
  },
  {
   "cell_type": "code",
   "execution_count": 18,
   "metadata": {
    "ExecuteTime": {
     "end_time": "2017-01-22T21:58:18.651734",
     "start_time": "2017-01-22T21:58:18.317457"
    },
    "collapsed": true
   },
   "outputs": [],
   "source": [
    "import os\n",
    "import pandas as pd\n",
    "import numpy as np\n",
    "import matplotlib.pyplot as plt\n",
    "from sklearn import linear_model as skl_linear_model\n",
    "%matplotlib inline"
   ]
  },
  {
   "cell_type": "markdown",
   "metadata": {},
   "source": [
    "## Pregnancy Prediction Using Linear Regression"
   ]
  },
  {
   "cell_type": "markdown",
   "metadata": {},
   "source": [
    "### Data Prep"
   ]
  },
  {
   "cell_type": "code",
   "execution_count": 2,
   "metadata": {
    "ExecuteTime": {
     "end_time": "2017-01-22T21:54:56.801726",
     "start_time": "2017-01-22T21:54:49.841093"
    },
    "collapsed": false
   },
   "outputs": [],
   "source": [
    "RetailMart = os.path.join(os.getcwd(), \"data_smart_files\", \"ch06\", \"RetailMart.xlsx\")\n",
    "training_data = pd.read_excel(RetailMart, 'Training Data', parse_cols = \"A:Q\")\n",
    "prego = pd.read_excel(RetailMart, 'Training Data', parse_cols = \"S:S\")\n",
    "test_data = pd.read_excel(RetailMart, 'Test Set', parse_cols = \"A:S\")\n",
    "prego_test = pd.read_excel(RetailMart, 'Test Set', parse_cols = \"U:U\")"
   ]
  },
  {
   "cell_type": "code",
   "execution_count": 3,
   "metadata": {
    "ExecuteTime": {
     "end_time": "2017-01-22T21:54:57.686789",
     "start_time": "2017-01-22T21:54:57.673698"
    },
    "collapsed": false
   },
   "outputs": [],
   "source": [
    "training_data['Male'] = np.where(training_data['Implied Gender'] == 'M',1,0)\n",
    "training_data['Female']= np.where(training_data['Implied Gender'] == 'F',1,0)\n",
    "del training_data['Implied Gender']\n",
    "training_data['Home'] = np.where(training_data['Home/Apt/ PO Box'] == 'H',1,0)\n",
    "training_data['Apt']= np.where(training_data['Home/Apt/ PO Box'] == 'A',1,0)\n",
    "del training_data['Home/Apt/ PO Box']\n",
    "training_data['Intercept'] = 1"
   ]
  },
  {
   "cell_type": "code",
   "execution_count": 26,
   "metadata": {
    "ExecuteTime": {
     "end_time": "2017-01-22T22:07:54.182803",
     "start_time": "2017-01-22T22:07:51.904849"
    },
    "collapsed": false
   },
   "outputs": [],
   "source": [
    "# to ensure we are comparing apples and apples, going to reorder \n",
    "books_model = pd.read_excel(RetailMart, 'Linear Model', parse_cols = \"A:U\",skip_footer=1005,index=0)\n",
    "training_data = training_data[books_model.columns] # sort in the same order as the book\n",
    "\n",
    "various_models = books_model.copy()\n",
    "various_models.rename({'Model Coefficients':'The Books Model'},inplace=True)"
   ]
  },
  {
   "cell_type": "code",
   "execution_count": 5,
   "metadata": {
    "ExecuteTime": {
     "end_time": "2017-01-22T21:55:01.575521",
     "start_time": "2017-01-22T21:55:01.549505"
    },
    "collapsed": false
   },
   "outputs": [
    {
     "data": {
      "text/html": [
       "<div>\n",
       "<table border=\"1\" class=\"dataframe\">\n",
       "  <thead>\n",
       "    <tr style=\"text-align: right;\">\n",
       "      <th></th>\n",
       "      <th>Male</th>\n",
       "      <th>Female</th>\n",
       "      <th>Home</th>\n",
       "      <th>Apt</th>\n",
       "      <th>Pregnancy Test</th>\n",
       "      <th>Birth Control</th>\n",
       "      <th>Feminine Hygiene</th>\n",
       "      <th>Folic Acid</th>\n",
       "      <th>Prenatal Vitamins</th>\n",
       "      <th>Prenatal Yoga</th>\n",
       "      <th>Body Pillow</th>\n",
       "      <th>Ginger Ale</th>\n",
       "      <th>Sea Bands</th>\n",
       "      <th>Stopped buying ciggies</th>\n",
       "      <th>Cigarettes</th>\n",
       "      <th>Smoking Cessation</th>\n",
       "      <th>Stopped buying wine</th>\n",
       "      <th>Wine</th>\n",
       "      <th>Maternity Clothes</th>\n",
       "      <th>Intercept</th>\n",
       "    </tr>\n",
       "  </thead>\n",
       "  <tbody>\n",
       "    <tr>\n",
       "      <th>0</th>\n",
       "      <td>1</td>\n",
       "      <td>0</td>\n",
       "      <td>0</td>\n",
       "      <td>1</td>\n",
       "      <td>1</td>\n",
       "      <td>0</td>\n",
       "      <td>0</td>\n",
       "      <td>0</td>\n",
       "      <td>1</td>\n",
       "      <td>0</td>\n",
       "      <td>0</td>\n",
       "      <td>0</td>\n",
       "      <td>0</td>\n",
       "      <td>0</td>\n",
       "      <td>0</td>\n",
       "      <td>0</td>\n",
       "      <td>0</td>\n",
       "      <td>0</td>\n",
       "      <td>0</td>\n",
       "      <td>1</td>\n",
       "    </tr>\n",
       "    <tr>\n",
       "      <th>1</th>\n",
       "      <td>1</td>\n",
       "      <td>0</td>\n",
       "      <td>1</td>\n",
       "      <td>0</td>\n",
       "      <td>1</td>\n",
       "      <td>0</td>\n",
       "      <td>0</td>\n",
       "      <td>0</td>\n",
       "      <td>1</td>\n",
       "      <td>0</td>\n",
       "      <td>0</td>\n",
       "      <td>0</td>\n",
       "      <td>0</td>\n",
       "      <td>0</td>\n",
       "      <td>0</td>\n",
       "      <td>0</td>\n",
       "      <td>0</td>\n",
       "      <td>0</td>\n",
       "      <td>0</td>\n",
       "      <td>1</td>\n",
       "    </tr>\n",
       "    <tr>\n",
       "      <th>2</th>\n",
       "      <td>1</td>\n",
       "      <td>0</td>\n",
       "      <td>1</td>\n",
       "      <td>0</td>\n",
       "      <td>1</td>\n",
       "      <td>0</td>\n",
       "      <td>0</td>\n",
       "      <td>0</td>\n",
       "      <td>0</td>\n",
       "      <td>0</td>\n",
       "      <td>0</td>\n",
       "      <td>0</td>\n",
       "      <td>1</td>\n",
       "      <td>0</td>\n",
       "      <td>0</td>\n",
       "      <td>0</td>\n",
       "      <td>0</td>\n",
       "      <td>0</td>\n",
       "      <td>0</td>\n",
       "      <td>1</td>\n",
       "    </tr>\n",
       "    <tr>\n",
       "      <th>3</th>\n",
       "      <td>0</td>\n",
       "      <td>0</td>\n",
       "      <td>1</td>\n",
       "      <td>0</td>\n",
       "      <td>0</td>\n",
       "      <td>0</td>\n",
       "      <td>0</td>\n",
       "      <td>0</td>\n",
       "      <td>0</td>\n",
       "      <td>0</td>\n",
       "      <td>0</td>\n",
       "      <td>1</td>\n",
       "      <td>0</td>\n",
       "      <td>0</td>\n",
       "      <td>0</td>\n",
       "      <td>0</td>\n",
       "      <td>0</td>\n",
       "      <td>0</td>\n",
       "      <td>0</td>\n",
       "      <td>1</td>\n",
       "    </tr>\n",
       "    <tr>\n",
       "      <th>4</th>\n",
       "      <td>0</td>\n",
       "      <td>1</td>\n",
       "      <td>0</td>\n",
       "      <td>1</td>\n",
       "      <td>0</td>\n",
       "      <td>0</td>\n",
       "      <td>0</td>\n",
       "      <td>0</td>\n",
       "      <td>0</td>\n",
       "      <td>1</td>\n",
       "      <td>0</td>\n",
       "      <td>0</td>\n",
       "      <td>0</td>\n",
       "      <td>0</td>\n",
       "      <td>0</td>\n",
       "      <td>0</td>\n",
       "      <td>1</td>\n",
       "      <td>0</td>\n",
       "      <td>0</td>\n",
       "      <td>1</td>\n",
       "    </tr>\n",
       "  </tbody>\n",
       "</table>\n",
       "</div>"
      ],
      "text/plain": [
       "   Male  Female  Home  Apt  Pregnancy Test  Birth Control  Feminine Hygiene  \\\n",
       "0     1       0     0    1               1              0                 0   \n",
       "1     1       0     1    0               1              0                 0   \n",
       "2     1       0     1    0               1              0                 0   \n",
       "3     0       0     1    0               0              0                 0   \n",
       "4     0       1     0    1               0              0                 0   \n",
       "\n",
       "   Folic Acid  Prenatal Vitamins  Prenatal Yoga  Body Pillow  Ginger Ale  \\\n",
       "0           0                  1              0            0           0   \n",
       "1           0                  1              0            0           0   \n",
       "2           0                  0              0            0           0   \n",
       "3           0                  0              0            0           1   \n",
       "4           0                  0              1            0           0   \n",
       "\n",
       "   Sea Bands  Stopped buying ciggies  Cigarettes  Smoking Cessation  \\\n",
       "0          0                       0           0                  0   \n",
       "1          0                       0           0                  0   \n",
       "2          1                       0           0                  0   \n",
       "3          0                       0           0                  0   \n",
       "4          0                       0           0                  0   \n",
       "\n",
       "   Stopped buying wine  Wine  Maternity Clothes  Intercept  \n",
       "0                    0     0                  0          1  \n",
       "1                    0     0                  0          1  \n",
       "2                    0     0                  0          1  \n",
       "3                    0     0                  0          1  \n",
       "4                    1     0                  0          1  "
      ]
     },
     "execution_count": 5,
     "metadata": {},
     "output_type": "execute_result"
    }
   ],
   "source": [
    "training_data.head()"
   ]
  },
  {
   "cell_type": "markdown",
   "metadata": {},
   "source": [
    "### Linear Regression Method 1: Gradient Descent"
   ]
  },
  {
   "cell_type": "code",
   "execution_count": 32,
   "metadata": {
    "ExecuteTime": {
     "end_time": "2017-01-22T22:08:39.340593",
     "start_time": "2017-01-22T22:08:39.325346"
    },
    "collapsed": false
   },
   "outputs": [],
   "source": [
    "# Note: some of the below code was generated during Andrew Ng's Machine Learning class. \n",
    "# It likely includes some of the starter code he provided. \n",
    "\n",
    "def gradientDescent(X, y, theta, alpha, num_iters):   \n",
    "    theta_history = np.zeros((num_iters, len(theta)))\n",
    "    J_history = np.zeros((num_iters))\n",
    "    m = len(y)\n",
    "    for i in range(num_iters):\n",
    "        #J = 1/(2*m) * sum((X * theta - y).^2);\n",
    "        error = np.dot(X, theta) - y \n",
    "        cost = (1/2*m) * np.square(error).sum()\n",
    "        gradient = np.dot(X.T, error) / m \n",
    "        theta = theta - (alpha * gradient)\n",
    "        theta_history[i,:] = theta\n",
    "        J_history[i] = cost\n",
    "    return [theta, theta_history, J_history]"
   ]
  },
  {
   "cell_type": "code",
   "execution_count": 33,
   "metadata": {
    "ExecuteTime": {
     "end_time": "2017-01-22T22:08:41.173676",
     "start_time": "2017-01-22T22:08:40.836521"
    },
    "collapsed": false
   },
   "outputs": [
    {
     "name": "stdout",
     "output_type": "stream",
     "text": [
      "For an alpha of 0.001000, the SSE is 265.209353 and the minimized cost is 132688.424272.\n",
      "For an alpha of 0.003000, the SSE is 205.797195 and the minimized cost is 102934.814859.\n",
      "For an alpha of 0.010000, the SSE is 160.708271 and the minimized cost is 80387.928233.\n",
      "For an alpha of 0.030000, the SSE is 139.685100 and the minimized cost is 69848.708182.\n",
      "For an alpha of 0.100000, the SSE is 136.267834 and the minimized cost is 68135.409468.\n",
      "For an alpha of 0.300000, the SSE is 135.540146 and the minimized cost is 67770.162531.\n",
      "For an alpha of 1.000000, the SSE is 164.171874 and the minimized cost is 82148.368741.\n"
     ]
    }
   ],
   "source": [
    "X = training_data.values\n",
    "y = prego.values.flatten()\n",
    "m = len(y)\n",
    "\n",
    "num_iters = 500\n",
    "theta = np.zeros((X.shape[1]))\n",
    "\n",
    "alphas = [0.001, 0.003, 0.01, 0.03, 0.1, 0.3, 1.]\n",
    "for alpha in alphas:\n",
    "    theta = np.zeros((X.shape[1]))\n",
    "    [theta, theta_history, J_history] = gradientDescent(X, y, theta, alpha, num_iters)\n",
    "    model_prediction = np.dot(training_data.values, theta.reshape(-1,1))\n",
    "    sqrd_err = np.square(prego.values - model_prediction)\n",
    "    sq_er_sm = sqrd_err.sum()\n",
    "    print('For an alpha of %f, the SSE is %f and the minimized cost is %f.'\n",
    "          %(alpha, sq_er_sm, J_history[-1]))"
   ]
  },
  {
   "cell_type": "markdown",
   "metadata": {},
   "source": [
    "Based on the above, alpha=0.3 seems to be the best."
   ]
  },
  {
   "cell_type": "code",
   "execution_count": 34,
   "metadata": {
    "ExecuteTime": {
     "end_time": "2017-01-22T22:08:44.382575",
     "start_time": "2017-01-22T22:08:43.739694"
    },
    "collapsed": false
   },
   "outputs": [
    {
     "data": {
      "text/plain": [
       "array([-0.09382867, -0.02244986, -0.02191385, -0.00748118,  0.2174769 ,\n",
       "       -0.27360099, -0.23744079,  0.34602167,  0.29440556,  0.30265408,\n",
       "        0.18185022,  0.23019806,  0.14469418,  0.1602986 , -0.15993322,\n",
       "        0.16512131,  0.18840182, -0.20742274,  0.24068656,  0.47488631])"
      ]
     },
     "execution_count": 34,
     "metadata": {},
     "output_type": "execute_result"
    },
    {
     "data": {
      "image/png": "[encoded data removed]",
      "text/plain": [
       "<matplotlib.figure.Figure at 0x10f795240>"
      ]
     },
     "metadata": {},
     "output_type": "display_data"
    }
   ],
   "source": [
    "alpha = 0.3\n",
    "num_iters = 500\n",
    "theta = np.zeros((X.shape[1]))\n",
    "[theta, theta_history, J_history] = gradientDescent(X, y, theta, alpha, num_iters)\n",
    "\n",
    "f, (ax1, ax2) = plt.subplots(1,2,figsize=(10,5))\n",
    "ax1.plot(J_history)\n",
    "ax1.set_title('Cost Function Over Iterations')\n",
    "ax1.set_xlabel('Iterations')\n",
    "ax1.set_ylabel('Cost')\n",
    "\n",
    "ax2.plot(theta_history,linewidth=.8, alpha=0.5)\n",
    "ax2.set_title('Theta Params Over Iterations')\n",
    "ax2.set_xlabel('Iterations')\n",
    "ax2.set_ylabel('Value')\n",
    "f.tight_layout()\n",
    "\n",
    "model_prediction = np.dot(training_data.values, theta.reshape(-1,1))\n",
    "sqrd_err = np.square(prego.values - model_prediction)\n",
    "sq_er_sm = sqrd_err.sum()\n",
    "\n",
    "theta"
   ]
  },
  {
   "cell_type": "code",
   "execution_count": 35,
   "metadata": {
    "ExecuteTime": {
     "end_time": "2017-01-22T22:08:47.568951",
     "start_time": "2017-01-22T22:08:47.564245"
    },
    "collapsed": false
   },
   "outputs": [],
   "source": [
    "various_models.loc['Gradient Descent'] = theta.flatten()"
   ]
  },
  {
   "cell_type": "markdown",
   "metadata": {},
   "source": [
    "### Linear Regression Method 2: Normal Equation\n",
    "The following code computes the closed form solution for linear regression using the normal equations."
   ]
  },
  {
   "cell_type": "code",
   "execution_count": 10,
   "metadata": {
    "ExecuteTime": {
     "end_time": "2017-01-22T21:55:42.143528",
     "start_time": "2017-01-22T21:55:42.131508"
    },
    "collapsed": false
   },
   "outputs": [
    {
     "data": {
      "text/plain": [
       "array([-0.09831062, -0.02682122, -0.02793073, -0.01329783,  0.21639389,\n",
       "       -0.27408127, -0.23806752,  0.34558503,  0.29412482,  0.32534953,\n",
       "        0.19362641,  0.2299248 ,  0.14577304,  0.16053328, -0.15907323,\n",
       "        0.16468839,  0.18778293, -0.20745921,  0.23990856,  0.48422156])"
      ]
     },
     "execution_count": 10,
     "metadata": {},
     "output_type": "execute_result"
    }
   ],
   "source": [
    "# pinv is computing the Moore-Penrose pseudo-inverse of a matrix.\n",
    "theta_pinv = np.dot(np.dot(np.linalg.pinv(np.dot(X.T,X)), X.T), y)\n",
    "theta_pinv.flatten()"
   ]
  },
  {
   "cell_type": "code",
   "execution_count": 29,
   "metadata": {
    "ExecuteTime": {
     "end_time": "2017-01-22T22:08:19.346616",
     "start_time": "2017-01-22T22:08:19.339582"
    },
    "collapsed": false
   },
   "outputs": [],
   "source": [
    "various_models.loc['Normal Eq'] = theta_pinv.flatten()"
   ]
  },
  {
   "cell_type": "markdown",
   "metadata": {},
   "source": [
    "### Linear Regression Method 3: scikit-learn\n",
    "The following code uses sklearn's linear_model.LinearRegression function."
   ]
  },
  {
   "cell_type": "code",
   "execution_count": 19,
   "metadata": {
    "ExecuteTime": {
     "end_time": "2017-01-22T21:58:29.528283",
     "start_time": "2017-01-22T21:58:29.515190"
    },
    "collapsed": false
   },
   "outputs": [
    {
     "data": {
      "text/plain": [
       "array([-0.09831062, -0.02682122, -0.02793073, -0.01329783,  0.21639389,\n",
       "       -0.27408127, -0.23806752,  0.34558503,  0.29412482,  0.32534953,\n",
       "        0.19362641,  0.2299248 ,  0.14577304,  0.16053328, -0.15907323,\n",
       "        0.16468839,  0.18778293, -0.20745921,  0.23990856,  0.48422156])"
      ]
     },
     "execution_count": 19,
     "metadata": {},
     "output_type": "execute_result"
    }
   ],
   "source": [
    "regr = skl_linear_model.LinearRegression()\n",
    "X = training_data.values\n",
    "y = prego.values\n",
    "regr.fit(X, y)\n",
    "theta_skl = regr.coef_.flatten()\n",
    "theta_skl[-1] = regr.intercept_\n",
    "theta_skl"
   ]
  },
  {
   "cell_type": "code",
   "execution_count": 30,
   "metadata": {
    "ExecuteTime": {
     "end_time": "2017-01-22T22:08:21.867949",
     "start_time": "2017-01-22T22:08:21.862098"
    },
    "collapsed": true
   },
   "outputs": [],
   "source": [
    "various_models.loc['sklearn'] = theta_skl"
   ]
  },
  {
   "cell_type": "code",
   "execution_count": 36,
   "metadata": {
    "ExecuteTime": {
     "end_time": "2017-01-22T22:08:52.621354",
     "start_time": "2017-01-22T22:08:52.590363"
    },
    "collapsed": false
   },
   "outputs": [
    {
     "data": {
      "text/html": [
       "<div>\n",
       "<table border=\"1\" class=\"dataframe\">\n",
       "  <thead>\n",
       "    <tr style=\"text-align: right;\">\n",
       "      <th></th>\n",
       "      <th>Male</th>\n",
       "      <th>Female</th>\n",
       "      <th>Home</th>\n",
       "      <th>Apt</th>\n",
       "      <th>Pregnancy Test</th>\n",
       "      <th>Birth Control</th>\n",
       "      <th>Feminine Hygiene</th>\n",
       "      <th>Folic Acid</th>\n",
       "      <th>Prenatal Vitamins</th>\n",
       "      <th>Prenatal Yoga</th>\n",
       "      <th>Body Pillow</th>\n",
       "      <th>Ginger Ale</th>\n",
       "      <th>Sea Bands</th>\n",
       "      <th>Stopped buying ciggies</th>\n",
       "      <th>Cigarettes</th>\n",
       "      <th>Smoking Cessation</th>\n",
       "      <th>Stopped buying wine</th>\n",
       "      <th>Wine</th>\n",
       "      <th>Maternity Clothes</th>\n",
       "      <th>Intercept</th>\n",
       "    </tr>\n",
       "  </thead>\n",
       "  <tbody>\n",
       "    <tr>\n",
       "      <th>The Books Model</th>\n",
       "      <td>-0.098311</td>\n",
       "      <td>-0.026821</td>\n",
       "      <td>-0.027931</td>\n",
       "      <td>-0.013298</td>\n",
       "      <td>0.216394</td>\n",
       "      <td>-0.274081</td>\n",
       "      <td>-0.238068</td>\n",
       "      <td>0.345585</td>\n",
       "      <td>0.294125</td>\n",
       "      <td>0.325350</td>\n",
       "      <td>0.193626</td>\n",
       "      <td>0.229925</td>\n",
       "      <td>0.145773</td>\n",
       "      <td>0.160533</td>\n",
       "      <td>-0.159073</td>\n",
       "      <td>0.164689</td>\n",
       "      <td>0.187783</td>\n",
       "      <td>-0.207459</td>\n",
       "      <td>0.239909</td>\n",
       "      <td>0.484222</td>\n",
       "    </tr>\n",
       "    <tr>\n",
       "      <th>Gradient Descent</th>\n",
       "      <td>-0.093829</td>\n",
       "      <td>-0.022450</td>\n",
       "      <td>-0.021914</td>\n",
       "      <td>-0.007481</td>\n",
       "      <td>0.217477</td>\n",
       "      <td>-0.273601</td>\n",
       "      <td>-0.237441</td>\n",
       "      <td>0.346022</td>\n",
       "      <td>0.294406</td>\n",
       "      <td>0.302654</td>\n",
       "      <td>0.181850</td>\n",
       "      <td>0.230198</td>\n",
       "      <td>0.144694</td>\n",
       "      <td>0.160299</td>\n",
       "      <td>-0.159933</td>\n",
       "      <td>0.165121</td>\n",
       "      <td>0.188402</td>\n",
       "      <td>-0.207423</td>\n",
       "      <td>0.240687</td>\n",
       "      <td>0.474886</td>\n",
       "    </tr>\n",
       "    <tr>\n",
       "      <th>Normal Eq</th>\n",
       "      <td>-0.098311</td>\n",
       "      <td>-0.026821</td>\n",
       "      <td>-0.027931</td>\n",
       "      <td>-0.013298</td>\n",
       "      <td>0.216394</td>\n",
       "      <td>-0.274081</td>\n",
       "      <td>-0.238068</td>\n",
       "      <td>0.345585</td>\n",
       "      <td>0.294125</td>\n",
       "      <td>0.325350</td>\n",
       "      <td>0.193626</td>\n",
       "      <td>0.229925</td>\n",
       "      <td>0.145773</td>\n",
       "      <td>0.160533</td>\n",
       "      <td>-0.159073</td>\n",
       "      <td>0.164688</td>\n",
       "      <td>0.187783</td>\n",
       "      <td>-0.207459</td>\n",
       "      <td>0.239909</td>\n",
       "      <td>0.484222</td>\n",
       "    </tr>\n",
       "    <tr>\n",
       "      <th>sklearn</th>\n",
       "      <td>-0.098311</td>\n",
       "      <td>-0.026821</td>\n",
       "      <td>-0.027931</td>\n",
       "      <td>-0.013298</td>\n",
       "      <td>0.216394</td>\n",
       "      <td>-0.274081</td>\n",
       "      <td>-0.238068</td>\n",
       "      <td>0.345585</td>\n",
       "      <td>0.294125</td>\n",
       "      <td>0.325350</td>\n",
       "      <td>0.193626</td>\n",
       "      <td>0.229925</td>\n",
       "      <td>0.145773</td>\n",
       "      <td>0.160533</td>\n",
       "      <td>-0.159073</td>\n",
       "      <td>0.164688</td>\n",
       "      <td>0.187783</td>\n",
       "      <td>-0.207459</td>\n",
       "      <td>0.239909</td>\n",
       "      <td>0.484222</td>\n",
       "    </tr>\n",
       "  </tbody>\n",
       "</table>\n",
       "</div>"
      ],
      "text/plain": [
       "                      Male    Female      Home       Apt  Pregnancy Test  \\\n",
       "The Books Model  -0.098311 -0.026821 -0.027931 -0.013298        0.216394   \n",
       "Gradient Descent -0.093829 -0.022450 -0.021914 -0.007481        0.217477   \n",
       "Normal Eq        -0.098311 -0.026821 -0.027931 -0.013298        0.216394   \n",
       "sklearn          -0.098311 -0.026821 -0.027931 -0.013298        0.216394   \n",
       "\n",
       "                  Birth Control  Feminine Hygiene  Folic Acid  \\\n",
       "The Books Model       -0.274081         -0.238068    0.345585   \n",
       "Gradient Descent      -0.273601         -0.237441    0.346022   \n",
       "Normal Eq             -0.274081         -0.238068    0.345585   \n",
       "sklearn               -0.274081         -0.238068    0.345585   \n",
       "\n",
       "                  Prenatal Vitamins  Prenatal Yoga  Body Pillow  Ginger Ale  \\\n",
       "The Books Model            0.294125       0.325350     0.193626    0.229925   \n",
       "Gradient Descent           0.294406       0.302654     0.181850    0.230198   \n",
       "Normal Eq                  0.294125       0.325350     0.193626    0.229925   \n",
       "sklearn                    0.294125       0.325350     0.193626    0.229925   \n",
       "\n",
       "                  Sea Bands  Stopped buying ciggies  Cigarettes  \\\n",
       "The Books Model    0.145773                0.160533   -0.159073   \n",
       "Gradient Descent   0.144694                0.160299   -0.159933   \n",
       "Normal Eq          0.145773                0.160533   -0.159073   \n",
       "sklearn            0.145773                0.160533   -0.159073   \n",
       "\n",
       "                  Smoking Cessation  Stopped buying wine      Wine  \\\n",
       "The Books Model            0.164689             0.187783 -0.207459   \n",
       "Gradient Descent           0.165121             0.188402 -0.207423   \n",
       "Normal Eq                  0.164688             0.187783 -0.207459   \n",
       "sklearn                    0.164688             0.187783 -0.207459   \n",
       "\n",
       "                  Maternity Clothes  Intercept  \n",
       "The Books Model            0.239909   0.484222  \n",
       "Gradient Descent           0.240687   0.474886  \n",
       "Normal Eq                  0.239909   0.484222  \n",
       "sklearn                    0.239909   0.484222  "
      ]
     },
     "execution_count": 36,
     "metadata": {},
     "output_type": "execute_result"
    }
   ],
   "source": [
    "various_models"
   ]
  },
  {
   "cell_type": "markdown",
   "metadata": {},
   "source": [
    "All 3 approaches seem to match the book's results pretty closely. Gradient Descent is not exact which makes sense as it would have likely benefited from more iterations. "
   ]
  },
  {
   "cell_type": "code",
   "execution_count": 38,
   "metadata": {
    "ExecuteTime": {
     "end_time": "2017-01-22T22:11:12.111520",
     "start_time": "2017-01-22T22:11:12.102036"
    },
    "collapsed": false
   },
   "outputs": [
    {
     "name": "stdout",
     "output_type": "stream",
     "text": [
      "The sum of the squared errors for The Books Model: 135.524328\n",
      "The sum of the squared errors for Gradient Descent: 135.540146\n",
      "The sum of the squared errors for Normal Eq: 135.524328\n",
      "The sum of the squared errors for sklearn: 135.524328\n"
     ]
    }
   ],
   "source": [
    "sse = []\n",
    "for row in various_models.iterrows():\n",
    "    model_prediction = np.dot(training_data.values,\n",
    "                          row[1].values.reshape(-1,1))\n",
    "    sqrd_err = np.square(prego.values - model_prediction)\n",
    "    sse.append(sqrd_err.sum())\n",
    "    print('The sum of the squared errors for %s: %f'%(row[0], sqrd_err.sum()))"
   ]
  },
  {
   "cell_type": "code",
   "execution_count": null,
   "metadata": {
    "ExecuteTime": {
     "end_time": "2017-01-22T21:29:30.228635",
     "start_time": "2017-01-22T21:29:30.214526"
    },
    "collapsed": false
   },
   "outputs": [],
   "source": [
    "test_data_np = np.concatenate((test_data.values,np.ones(test_data.shape[0]).reshape(-1,1)),axis=1)\n",
    "regr.score(test_data_np, prego_test.values)"
   ]
  },
  {
   "cell_type": "code",
   "execution_count": null,
   "metadata": {
    "ExecuteTime": {
     "end_time": "2017-01-21T22:23:06.992633",
     "start_time": "2017-01-21T22:23:06.989805"
    },
    "collapsed": false
   },
   "outputs": [],
   "source": [
    "# total_sum_squares = np.square(prego - np.average(prego)).sum()"
   ]
  },
  {
   "cell_type": "code",
   "execution_count": null,
   "metadata": {
    "ExecuteTime": {
     "end_time": "2017-01-22T21:25:53.293572",
     "start_time": "2017-01-22T21:25:53.265410"
    },
    "collapsed": false
   },
   "outputs": [],
   "source": [
    "#Explained Sum of Squares\n",
    "for s in sse:\n",
    "    print(float((total_sum_squares - s) / total_sum_squares))\n",
    "    \n",
    "#Explained variance score: 1 is perfect prediction\n",
    "print('Variance score: %.2f' % regr.score(test_data, prego_test))"
   ]
  },
  {
   "cell_type": "code",
   "execution_count": null,
   "metadata": {
    "ExecuteTime": {
     "end_time": "2017-01-22T21:22:13.685989",
     "start_time": "2017-01-22T21:22:13.614807"
    },
    "collapsed": false
   },
   "outputs": [],
   "source": []
  },
  {
   "cell_type": "code",
   "execution_count": null,
   "metadata": {
    "collapsed": true
   },
   "outputs": [],
   "source": []
  }
 ],
 "metadata": {
  "anaconda-cloud": {},
  "kernelspec": {
   "display_name": "Python [default]",
   "language": "python",
   "name": "python3"
  },
  "language_info": {
   "codemirror_mode": {
    "name": "ipython",
    "version": 3
   },
   "file_extension": ".py",
   "mimetype": "text/x-python",
   "name": "python",
   "nbconvert_exporter": "python",
   "pygments_lexer": "ipython3",
   "version": "3.5.2"
  }
 },
 "nbformat": 4,
 "nbformat_minor": 0
}
