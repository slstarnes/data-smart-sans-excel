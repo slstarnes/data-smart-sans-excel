{
 "cells": [
  {
   "cell_type": "markdown",
   "metadata": {},
   "source": [
    "# Data Smart Sans Excel\n",
    "[Data Smart](http://www.john-foreman.com/data-smart-book.html) is a data science book written by John Forman (of MailChimp). The book is very hands-on, with lots of exercises / examples. John wanted it to be a \"code free\" book (at least for the first few chapters), so he uses Excel as the primary data tool. I thought it would be a helpful learning exercise to work the problems in the book with Python. "
   ]
  },
  {
   "cell_type": "code",
   "execution_count": null,
   "metadata": {
    "collapsed": true
   },
   "outputs": [],
   "source": [
    "# Download and extract Data Smart files\n",
    "import os\n",
    "import urllib.request\n",
    "import zipfile\n",
    "if not os.path.exists(os.path.join(os.getcwd(), \"data_smart_files\")):\n",
    "    r = range(1, 11)\n",
    "    url_list = []\n",
    "    url_base = \"http://media.wiley.com/product_ancillary/6X/11186614/DOWNLOAD/\"\n",
    "    for i in r:\n",
    "        url_list.append(url_base + 'ch' + str(i).zfill(2) + '.zip')\n",
    "    for url in url_list:\n",
    "        file_name = url[-8:]\n",
    "        urllib.request.urlretrieve (url, file_name)\n",
    "        z = zipfile.ZipFile(file_name, \"r\")\n",
    "        z.extractall(os.path.join(os.getcwd(), \"data_smart_files\"))\n",
    "        z.close()"
   ]
  },
  {
   "cell_type": "markdown",
   "metadata": {},
   "source": [
    "## Chapter 2 - K-means Clustering\n",
    "[Chapter 2](Data%20Smart%20Sans%20Excel%20-%20Ch.%202.ipynb)"
   ]
  },
  {
   "cell_type": "markdown",
   "metadata": {},
   "source": [
    "## Chapter 3 - Naïve Bayes\n",
    "[Chapter 3](Data%20Smart%20Sans%20Excel%20-%20Ch.%203.ipynb)"
   ]
  },
  {
   "cell_type": "markdown",
   "metadata": {
    "collapsed": true
   },
   "source": [
    "## Chapter 4 - Optimization Modeling\n",
    "[Chapter 4](Data%20Smart%20Sans%20Excel%20-%20Ch.%204.ipynb)"
   ]
  },
  {
   "cell_type": "markdown",
   "metadata": {},
   "source": [
    "## Chapter 5 - Cluster Analysis Part II\n",
    "[Chapter 5](Data%20Smart%20Sans%20Excel%20-%20Ch.%205.ipynb)"
   ]
  },
  {
   "cell_type": "markdown",
   "metadata": {},
   "source": [
    "## Chapter 6 - Regression\n",
    "[Chapter 6](Data%20Smart%20Sans%20Excel%20-%20Ch.%206.ipynb)"
   ]
  },
  {
   "cell_type": "markdown",
   "metadata": {},
   "source": [
    "## Chapter 7 - Ensemble Models\n",
    "[Chapter 7](Data%20Smart%20Sans%20Excel%20-%20Ch.%207.ipynb)\n"
   ]
  },
  {
   "cell_type": "markdown",
   "metadata": {},
   "source": [
    "## Chapter 8 - Forecasting\n",
    "[Chapter 8](Data%20Smart%20Sans%20Excel%20-%20Ch.%208.ipynb)"
   ]
  },
  {
   "cell_type": "markdown",
   "metadata": {},
   "source": [
    "## Chapter 9 - Outlier Detection\n",
    "[Chapter 9](Data%20Smart%20Sans%20Excel%20-%20Ch.%209.ipynb)"
   ]
  },
  {
   "cell_type": "markdown",
   "metadata": {},
   "source": [
    "## Chapter 10 - R\n",
    "[Chapter 10](Data%20Smart%20Sans%20Excel%20-%20Ch.%2010.ipynb)"
   ]
  }
 ],
 "metadata": {
  "anaconda-cloud": {},
  "kernelspec": {
   "display_name": "Python [default]",
   "language": "python",
   "name": "python3"
  },
  "language_info": {
   "codemirror_mode": {
    "name": "ipython",
    "version": 3
   },
   "file_extension": ".py",
   "mimetype": "text/x-python",
   "name": "python",
   "nbconvert_exporter": "python",
   "pygments_lexer": "ipython3",
   "version": "3.5.2"
  }
 },
 "nbformat": 4,
 "nbformat_minor": 0
}
